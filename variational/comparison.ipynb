{
 "cells": [
  {
   "cell_type": "code",
   "execution_count": 1,
   "metadata": {},
   "outputs": [],
   "source": [
    "import numpy as np\n",
    "import matplotlib.pylab as plt\n",
    "\n",
    "import sys, os\n",
    "sys.path.append(os.path.join(os.path.dirname(\"__file__\"), '..', '..'))\n",
    "from AI_scientist.util import plot_matrices, make_dir, get_args, Early_Stopping, record_data\n",
    "from AI_scientist.settings.filepath import variational_model_PATH\n",
    "from AI_scientist.pytorch.net import Net\n",
    "from AI_scientist.variational.variational_meta_learning import get_tasks\n",
    "\n",
    "seed = 1\n",
    "np.random.seed(seed)"
   ]
  },
  {
   "cell_type": "code",
   "execution_count": 2,
   "metadata": {},
   "outputs": [],
   "source": [
    "num_train_tasks = 100\n",
    "num_test_tasks = 100\n",
    "input_size = 1\n",
    "task_id_list = [\n",
    "# \"latent_model_linear\",\n",
    "# \"polynomial_3\",\n",
    "# \"Legendre_3\",\n",
    "# \"master_sawtooth\",\n",
    "# \"master_sin\",\n",
    "# \"master_Gaussian\",\n",
    "\"master_tanh\",\n",
    "# \"master_softplus\",\n",
    "# \"2Dbouncing\",\n",
    "]\n",
    "task_settings = {\n",
    "    \"zdim\": 1,\n",
    "    \"z_settings\": [\"Gaussian\", (0, 1)],\n",
    "    \"num_layers\": 1,\n",
    "    \"xlim\": (-4, 4),\n",
    "    \"activation\": \"softplus\",\n",
    "    \"input_size\": input_size,\n",
    "    \"num_examples\": 2000,\n",
    "}\n",
    "task_settings[\"test_size\"] = 0.2\n",
    "tasks_train, _ = get_tasks(task_id_list, num_train_tasks, num_test_tasks, task_settings = task_settings, render = False)\n",
    "task_settings[\"test_size\"] = 0.95\n",
    "_, tasks_test = get_tasks(task_id_list, num_train_tasks, num_test_tasks, task_settings = task_settings, render = False)"
   ]
  },
  {
   "cell_type": "code",
   "execution_count": 3,
   "metadata": {},
   "outputs": [],
   "source": [
    "tasks_train, tasks_test = get_tasks(task_id_list, num_train_tasks, num_test_tasks, task_settings = task_settings)\n",
    "epochs = 1000\n",
    "for i in range(epochs):\n",
    "    ################        \n",
    "    #Train with training tasks:\n",
    "    ################\n",
    "    for task_key, task in tasks_train.items():\n",
    "        ((X_train, y_train), (X_test, y_test)), info = task\n",
    "        \n",
    "\n",
    "################        \n",
    "# Evaluation with testing tasks\n",
    "################"
   ]
  },
  {
   "cell_type": "code",
   "execution_count": 4,
   "metadata": {},
   "outputs": [],
   "source": [
    "((X_train, y_train), (X_test, y_test)), info = tasks_train['master_tanh_10']"
   ]
  },
  {
   "cell_type": "code",
   "execution_count": 5,
   "metadata": {},
   "outputs": [
    {
     "data": {
      "text/plain": [
       "[<matplotlib.lines.Line2D at 0x11615cd68>]"
      ]
     },
     "execution_count": 5,
     "metadata": {},
     "output_type": "execute_result"
    },
    {
     "data": {
      "image/png": "[encoded data removed]",
      "text/plain": [
       "<matplotlib.figure.Figure at 0x107ad3780>"
      ]
     },
     "metadata": {},
     "output_type": "display_data"
    }
   ],
   "source": [
    "plt.plot(X_train.data.numpy(), y_train.data.numpy(), \".\")"
   ]
  },
  {
   "cell_type": "code",
   "execution_count": null,
   "metadata": {},
   "outputs": [],
   "source": []
  }
 ],
 "metadata": {
  "kernelspec": {
   "display_name": "Python 3",
   "language": "python",
   "name": "python3"
  },
  "language_info": {
   "codemirror_mode": {
    "name": "ipython",
    "version": 3
   },
   "file_extension": ".py",
   "mimetype": "text/x-python",
   "name": "python",
   "nbconvert_exporter": "python",
   "pygments_lexer": "ipython3",
   "version": "3.5.2"
  }
 },
 "nbformat": 4,
 "nbformat_minor": 2
}
